{
  "nbformat": 4,
  "nbformat_minor": 0,
  "metadata": {
    "colab": {
      "provenance": []
    },
    "kernelspec": {
      "name": "python3",
      "display_name": "Python 3"
    },
    "language_info": {
      "name": "python"
    }
  },
  "cells": [
    {
      "cell_type": "markdown",
      "source": [
        "An Example Function Code to find average of A list which contain values."
      ],
      "metadata": {
        "id": "Fad9rktN8_P2"
      }
    },
    {
      "cell_type": "code",
      "source": [
        "#A List Example\n",
        "data1 = [70, 70, 70, 100, 100, 100, 120, 120, 150, 150,75,89,8,34,56,78,90,34,12,15,16,75,43,23,45,45,44,78,29,37,51,36,35,23,67,88,89,20,13,10,41,26,34,25,60,10,20,40,50,55,26,68,44,78]\n",
        "data2 = [50, 60, 60, 50, 70, 70, 100, 80, 100, 90,43,23,45,94,51,36,35,23,67,88,89,20,13,10,41,26,34,25,60,10,20,40,50,55, 70, 100, 100, 100, 120, 12]"
      ],
      "metadata": {
        "id": "U1gQQCb289o3"
      },
      "execution_count": 11,
      "outputs": []
    },
    {
      "cell_type": "code",
      "source": [
        "#How Much Value in every list ?\n",
        "\n",
        "print(\"data1 consist of \", len(data1), \"value\")\n",
        "\n",
        "print(\"data2 consist of \", len(data2), \"value\")"
      ],
      "metadata": {
        "colab": {
          "base_uri": "https://localhost:8080/"
        },
        "id": "EMrE0y4j75Mg",
        "outputId": "d08074cc-cc04-44e8-9667-c3181c8060d1"
      },
      "execution_count": 12,
      "outputs": [
        {
          "output_type": "stream",
          "name": "stdout",
          "text": [
            "data1 consist of  54 value\n",
            "data2 consist of  40 value\n"
          ]
        }
      ]
    },
    {
      "cell_type": "code",
      "source": [
        "#Let Say we will to find how many values 100 in data1\n",
        "data1.count(100)"
      ],
      "metadata": {
        "colab": {
          "base_uri": "https://localhost:8080/"
        },
        "id": "JKyRlWjx8EJb",
        "outputId": "9c7287f3-4b5d-4e17-e9cd-db3b608673ae"
      },
      "execution_count": 19,
      "outputs": [
        {
          "output_type": "execute_result",
          "data": {
            "text/plain": [
              "3"
            ]
          },
          "metadata": {},
          "execution_count": 19
        }
      ]
    },
    {
      "cell_type": "code",
      "source": [
        "#Finding Average in every list with Function\n",
        "#1st Version\n",
        "%%timeit\n",
        "def average(data):\n",
        "    jumlah = 0\n",
        "    for item in data:\n",
        "        jumlah += item\n",
        "    average = jumlah/len(data)\n",
        "    return average\n"
      ],
      "metadata": {
        "colab": {
          "base_uri": "https://localhost:8080/"
        },
        "id": "QB6ePr4J91pJ",
        "outputId": "6b5f1413-dd9f-496d-c6cd-bc7f83fe72b0"
      },
      "execution_count": 30,
      "outputs": [
        {
          "output_type": "stream",
          "name": "stdout",
          "text": [
            "48.1 ns ± 0.625 ns per loop (mean ± std. dev. of 7 runs, 10000000 loops each)\n"
          ]
        }
      ]
    },
    {
      "cell_type": "code",
      "source": [
        "print('Average in data1:')\n",
        "print(average(data1))\n",
        "print('average in data2:')\n",
        "print(average(data2))"
      ],
      "metadata": {
        "colab": {
          "base_uri": "https://localhost:8080/"
        },
        "id": "uQF4Dn9p-VqZ",
        "outputId": "336198c6-8105-4678-8398-b8f11f0406a1"
      },
      "execution_count": 31,
      "outputs": [
        {
          "output_type": "stream",
          "name": "stdout",
          "text": [
            "Average in data1:\n",
            "55.27777777777778\n",
            "average in data2:\n",
            "55.75\n"
          ]
        }
      ]
    },
    {
      "cell_type": "code",
      "source": [
        "#2nd Version\n",
        "%%timeit\n",
        "def average(data):\n",
        "    jumlah = 0\n",
        "    for item in data:\n",
        "        jumlah += 1\n",
        "    average = sum(data)/jumlah\n",
        "    return average\n"
      ],
      "metadata": {
        "colab": {
          "base_uri": "https://localhost:8080/"
        },
        "id": "83M_bU7c-WrC",
        "outputId": "b798db7f-90a1-4e9a-97c3-ccca5518a9cf"
      },
      "execution_count": 33,
      "outputs": [
        {
          "output_type": "stream",
          "name": "stdout",
          "text": [
            "49.6 ns ± 1.11 ns per loop (mean ± std. dev. of 7 runs, 10000000 loops each)\n"
          ]
        }
      ]
    },
    {
      "cell_type": "code",
      "source": [
        "print('Average in data1:')\n",
        "print(average(data1))\n",
        "print('average in data2:')\n",
        "print(average(data2))"
      ],
      "metadata": {
        "colab": {
          "base_uri": "https://localhost:8080/"
        },
        "id": "laB1OXs4-74L",
        "outputId": "05dae0ef-3652-46f6-a06a-beb06bd520b0"
      },
      "execution_count": 34,
      "outputs": [
        {
          "output_type": "stream",
          "name": "stdout",
          "text": [
            "Average in data1:\n",
            "55.27777777777778\n",
            "average in data2:\n",
            "55.75\n"
          ]
        }
      ]
    },
    {
      "cell_type": "markdown",
      "source": [
        "Here i show you an interesting thing : 1st version faster than 2nd version\n",
        "\n",
        "1st version : 48.1 ns ± 0.625 ns per loop\n",
        "\n",
        "\n",
        "2nd version : 49.6 ns ± 1.11 ns per loop"
      ],
      "metadata": {
        "id": "rhhZMXOUAN9O"
      }
    },
    {
      "cell_type": "markdown",
      "source": [
        "In 1st version for loop fullfill the sum of the list first then average value counts last. Meanwhile, 2nd version, for loop counting how many values in list then average counts with sum of data divided by for loop results.\n",
        "\n",
        "Interesting.\n",
        "\n",
        "Hypotesis to learn :\n",
        "\n",
        "\n",
        "\n",
        "1.   function with for loop elements more efficient if for loop is used to calculate instead of to count element.\n",
        "\n",
        "\n",
        "2.   Better use len(data) to count element.\n",
        "\n",
        "\n",
        "\n",
        "\n"
      ],
      "metadata": {
        "id": "Uc6g3_q2Ax4V"
      }
    },
    {
      "cell_type": "code",
      "source": [],
      "metadata": {
        "id": "xucJfo4nCgd4"
      },
      "execution_count": null,
      "outputs": []
    }
  ]
}